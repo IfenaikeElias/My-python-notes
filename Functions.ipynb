{
 "cells": [
  {
   "cell_type": "markdown",
   "id": "b75cf32a",
   "metadata": {},
   "source": [
    "# Functions\n",
    "\n",
    "### **Why Functions ?**"
   ]
  },
  {
   "cell_type": "markdown",
   "id": "9e958781",
   "metadata": {},
   "source": [
    "functions are used to break down complex code into independtly excecutables parts. They prevent repitition of a piece of code. Say you have a piece of code that you need to perform the same task in different parts of your code, you define it as a function and this way you can just call the function when you need to perform the task the code does\n",
    "\n",
    "function are defined using the `def` statement"
   ]
  },
  {
   "cell_type": "code",
   "execution_count": 13,
   "id": "99945444",
   "metadata": {},
   "outputs": [
    {
     "name": "stdout",
     "output_type": "stream",
     "text": [
      "Hello\n"
     ]
    }
   ],
   "source": [
    "# Define the function\n",
    "def print_hello():\n",
    "    print(\"Hello\")\n",
    "\n",
    "# Call the function\n",
    "print_hello()"
   ]
  },
  {
   "cell_type": "markdown",
   "id": "7cd82e97",
   "metadata": {},
   "source": [
    "### **Arguements**"
   ]
  },
  {
   "cell_type": "markdown",
   "id": "be7e08dd",
   "metadata": {},
   "source": [
    "Some times we have a function that needs a variable to work with, we can always define this variable inside the function (`Hard coding`), but this doesn't give space to change the variable if we want, hence a better approach is to pass the variable as an `arguement` or `parameter` to the function"
   ]
  },
  {
   "cell_type": "code",
   "execution_count": 29,
   "id": "308025d7",
   "metadata": {},
   "outputs": [
    {
     "name": "stdout",
     "output_type": "stream",
     "text": [
      "Hello ! Hello ! Hello ! Hello ! Hello ! \n",
      "\n",
      "Hello ! Hello ! Hello ! \n",
      "\n",
      "Any one home ? \n",
      "\n"
     ]
    }
   ],
   "source": [
    "def echo(word, n): # word and n are both arguements of the echo function\n",
    "    print(word * n + \"\\n\")\n",
    "\n",
    "echo(\"Hello ! \", 5)\n",
    "echo(\"Hello ! \", 3)\n",
    "echo(\"Any one home ? \", 1)\n"
   ]
  },
  {
   "cell_type": "markdown",
   "id": "e2c68c34",
   "metadata": {},
   "source": [
    "### **`return`**"
   ]
  },
  {
   "cell_type": "markdown",
   "id": "e57d59c0",
   "metadata": {},
   "source": [
    "`return` is used to output the result of a function. once return is called the functions stops ignoring the rest of the code"
   ]
  },
  {
   "cell_type": "code",
   "execution_count": 18,
   "id": "a25aaa9b",
   "metadata": {},
   "outputs": [],
   "source": [
    "def lazy_counter(n):\n",
    "    i = 0\n",
    "    while i <= n:\n",
    "        if i == n//2:\n",
    "            return \"No more counting, I'm exhausted\"\n",
    "        print(i)\n",
    "        i += 1\n",
    "        "
   ]
  },
  {
   "cell_type": "code",
   "execution_count": 20,
   "id": "ac9e78de",
   "metadata": {},
   "outputs": [
    {
     "name": "stdout",
     "output_type": "stream",
     "text": [
      "0\n",
      "1\n",
      "2\n",
      "3\n",
      "4\n"
     ]
    },
    {
     "data": {
      "text/plain": [
       "\"No more counting, I'm exhausted\""
      ]
     },
     "execution_count": 20,
     "metadata": {},
     "output_type": "execute_result"
    }
   ],
   "source": [
    "lazy_counter(10)"
   ]
  },
  {
   "cell_type": "code",
   "execution_count": 21,
   "id": "bd041844",
   "metadata": {},
   "outputs": [
    {
     "name": "stdout",
     "output_type": "stream",
     "text": [
      "73.4\n"
     ]
    }
   ],
   "source": [
    "# function to convert temperature from Celcius to Farenheit\n",
    "def convert(t):\n",
    "     return t*9/5+32\n",
    "\n",
    "print(convert(23))"
   ]
  },
  {
   "cell_type": "markdown",
   "id": "80666df0",
   "metadata": {},
   "source": [
    "We can call a function inside another function.\n",
    "\n",
    "A special case is `Recursion`:  calling a function inside itself."
   ]
  },
  {
   "cell_type": "code",
   "execution_count": 24,
   "id": "b97bd789",
   "metadata": {},
   "outputs": [],
   "source": [
    "# A recursive function\n",
    "def factorial(n):\n",
    "    if n == 0:\n",
    "        return 1\n",
    "    if n == 1:\n",
    "        return 1\n",
    "    return n * factorial(n-1)"
   ]
  },
  {
   "cell_type": "code",
   "execution_count": 25,
   "id": "61eba2c9",
   "metadata": {},
   "outputs": [
    {
     "data": {
      "text/plain": [
       "120"
      ]
     },
     "execution_count": 25,
     "metadata": {},
     "output_type": "execute_result"
    }
   ],
   "source": [
    "factorial(5)"
   ]
  },
  {
   "cell_type": "markdown",
   "id": "8fa3471b",
   "metadata": {},
   "source": [
    "### **Default Arguements, Positional and Key word Arguements**"
   ]
  },
  {
   "cell_type": "markdown",
   "id": "7a49e2cd",
   "metadata": {},
   "source": [
    "**Default arguements** are arguements or parameters with default values. They must come after non-default values when you define a function. They help to decrease the number of paramters/ arguements specified when defining a function as these parameters are assumed thier default values.\n",
    "\n"
   ]
  },
  {
   "cell_type": "code",
   "execution_count": 32,
   "id": "a6d4ed9d",
   "metadata": {},
   "outputs": [
    {
     "name": "stdout",
     "output_type": "stream",
     "text": [
      "Hello, Alice! You are 25 years old.\n",
      "Hello, Alice! You are 19 years old.\n"
     ]
    }
   ],
   "source": [
    "def greet(name, age=25):\n",
    "    print(f\"Hello, {name}! You are {age} years old.\")\n",
    "\n",
    "greet(\"Alice\") # using age default value\n",
    "greet(\"Alice\", age = 19) # specifying a value for age"
   ]
  },
  {
   "cell_type": "markdown",
   "id": "b0614d32",
   "metadata": {},
   "source": [
    "**Order of Default arguements do not matter**"
   ]
  },
  {
   "cell_type": "code",
   "execution_count": 33,
   "id": "84f9cc41",
   "metadata": {},
   "outputs": [
    {
     "name": "stdout",
     "output_type": "stream",
     "text": [
      "Hello, Alice! You are 30 years old and live in Los Angeles.\n",
      "Hello, Bob! You are 40 years old and live in Chicago.\n",
      "Hello, Charlie! You are 25 years old and live in New York.\n"
     ]
    }
   ],
   "source": [
    "def greet(name, age=25, city=\"New York\"):\n",
    "    print(f\"Hello, {name}! You are {age} years old and live in {city}.\")\n",
    "\n",
    "greet('Alice', 30, 'Los Angeles')  # All arguments are passed based on position\n",
    "\n",
    "greet('Bob', city='Chicago', age=40)  \n",
    "\n",
    "# Using default arguments:\n",
    "greet('Charlie')  # 'age' uses default 25, 'city' uses default \"New York\"\n"
   ]
  },
  {
   "cell_type": "markdown",
   "id": "397c7546",
   "metadata": {},
   "source": [
    "**Positional arguements** : by default in python non default arguements are positional. meaning they must be passed in thesame order as they are in the function definition"
   ]
  },
  {
   "cell_type": "code",
   "execution_count": 34,
   "id": "1a8d9908",
   "metadata": {},
   "outputs": [
    {
     "name": "stdout",
     "output_type": "stream",
     "text": [
      "Hello, Alice! You are 30 years old.\n"
     ]
    }
   ],
   "source": [
    "def greet(name, age):\n",
    "    print(f\"Hello, {name}! You are {age} years old.\")\n",
    "\n",
    "# Here, 'Alice' is passed as the first argument (for 'name'), and 30 is passed as the second argument (for 'age')\n",
    "greet('Alice', 30)\n"
   ]
  },
  {
   "cell_type": "markdown",
   "id": "a68f716a",
   "metadata": {},
   "source": [
    "**Key word Arguements** allows us to use positional arguements in any order by explicitly providing values for this parameter"
   ]
  },
  {
   "cell_type": "code",
   "execution_count": 36,
   "id": "6d75cc8d",
   "metadata": {},
   "outputs": [
    {
     "name": "stdout",
     "output_type": "stream",
     "text": [
      "Hello, Alice! You are 30 years old.\n"
     ]
    }
   ],
   "source": [
    "def greet(name, age):\n",
    "    print(f\"Hello, {name}! You are {age} years old.\")\n",
    "greet(age=30, name=\"Alice\") # name and age are used as keyword arguements, hence can be parsed in any order"
   ]
  },
  {
   "cell_type": "markdown",
   "id": "7a171897",
   "metadata": {},
   "source": [
    "### **Function Annotations (Type Hints)**"
   ]
  },
  {
   "cell_type": "markdown",
   "id": "eed084ba",
   "metadata": {},
   "source": [
    "we can specify type of our input and out put parameter using `:` syntax\n"
   ]
  },
  {
   "cell_type": "markdown",
   "id": "58d27f50",
   "metadata": {},
   "source": [
    "syntax:\n",
    "\n",
    "``` python\n",
    "def function_name(parameter_name : expected_type) -> return_type:\n",
    "    #function body\n",
    "```"
   ]
  },
  {
   "cell_type": "code",
   "execution_count": 38,
   "id": "7dcc26b5",
   "metadata": {},
   "outputs": [
    {
     "data": {
      "text/plain": [
       "'Hello Alice! you are 22 years old'"
      ]
     },
     "execution_count": 38,
     "metadata": {},
     "output_type": "execute_result"
    }
   ],
   "source": [
    "def greet(name: str, age: int) -> str:\n",
    "    ''' we hint who is reading the code that:\n",
    "    name should be a string and age should be an integer and the return typ\n",
    "    '''\n",
    "    return f\"Hello {name}! you are {age} years old\"\n",
    "\n",
    "greet(\"Alice\", \"22\")"
   ]
  },
  {
   "cell_type": "code",
   "execution_count": 41,
   "id": "2f17f32c",
   "metadata": {},
   "outputs": [
    {
     "name": "stdout",
     "output_type": "stream",
     "text": [
      "[1, 2, 3, 4, 3]\n"
     ]
    }
   ],
   "source": [
    "from typing import List\n",
    "# we will write code to flatten an array\n",
    "\n",
    "def flatten_matrix(mat: List[List[int]]) -> List[int]:\n",
    "    ''' we hint who is reading our code that input max is a list where each \n",
    "        item is a list of integer and code output will be a list of integer\n",
    "    '''\n",
    "    return [each for rows in mat for each in rows]\n",
    "\n",
    "print(flatten_matrix([[1, 2, 3], [4, 3]]))\n"
   ]
  },
  {
   "cell_type": "code",
   "execution_count": 44,
   "id": "ffb010c4",
   "metadata": {},
   "outputs": [
    {
     "name": "stdout",
     "output_type": "stream",
     "text": [
      "23\n"
     ]
    }
   ],
   "source": [
    "from typing import Dict\n",
    "# we will write code to retrieve a user age from a dictionary of users details\n",
    "def get_age(name: str, ages: Dict[str, int] ) -> int:\n",
    "    '''\n",
    "    we are informing wo reads thew code that name is a string and ages is a dictionary\n",
    "    whose element keys are strings and values are int\n",
    "    '''\n",
    "    return ages.get(name, 0) \n",
    "\n",
    "Users= {\"Dve\": 28, \"Mimie\": 18, \"Alice\": 23}\n",
    "print(get_age(\"Alice\", Users))\n"
   ]
  },
  {
   "cell_type": "markdown",
   "id": "3296948d",
   "metadata": {},
   "source": [
    "### **Using None for Nullable types**"
   ]
  },
  {
   "cell_type": "markdown",
   "id": "d22535e1",
   "metadata": {},
   "source": [
    "For parameters that can either be a specific type or `None`, we can use `Optional` from the `typing` module.\n",
    "\n"
   ]
  },
  {
   "cell_type": "code",
   "execution_count": 46,
   "id": "32db7a80",
   "metadata": {},
   "outputs": [
    {
     "name": "stdout",
     "output_type": "stream",
     "text": [
      "Hello Alice!\n",
      "Hello Stranger!\n"
     ]
    }
   ],
   "source": [
    "from typing import Optional\n",
    "def greet(name: Optional[str] = None) -> str:\n",
    "    '''\n",
    "    we are telling who is reading the code that name is a string but it could also be None (i.e nothing)\n",
    "    '''\n",
    "    if name:\n",
    "        return f\"Hello {name}!\"\n",
    "    return \"Hello Stranger!\"\n",
    "\n",
    "print(greet(\"Alice\"))\n",
    "print(greet())\n"
   ]
  },
  {
   "cell_type": "markdown",
   "id": "1f0bc2c1",
   "metadata": {},
   "source": [
    "We can specify multiple types of element in a **`List`** or **`Tuple`** by doing:\n",
    "\n",
    "``` python\n",
    "from typing import List\n",
    "\n",
    "List[Type1, Type2]\n",
    "\n",
    "Tuple[Type1, Type2, Type3]\n",
    "```"
   ]
  },
  {
   "cell_type": "markdown",
   "id": "ce021f06",
   "metadata": {},
   "source": [
    "### **Scope of Variable (Local and Global)**"
   ]
  },
  {
   "cell_type": "markdown",
   "id": "569b7282",
   "metadata": {},
   "source": [
    "**local** variables are variables that are defined inside a function. they are called local, because they can only be use in that function. if such a variable is used outside the function without redifining it an error will occur."
   ]
  },
  {
   "cell_type": "code",
   "execution_count": 74,
   "id": "d445ae7c",
   "metadata": {},
   "outputs": [
    {
     "name": "stdout",
     "output_type": "stream",
     "text": [
      "Hello\n"
     ]
    }
   ],
   "source": [
    "def func_1(): \n",
    "    i = \"Hello\"\n",
    "    print(i)\n",
    "func_1()"
   ]
  },
  {
   "cell_type": "code",
   "execution_count": 60,
   "id": "10456740",
   "metadata": {},
   "outputs": [
    {
     "ename": "NameError",
     "evalue": "name 'i' is not defined",
     "output_type": "error",
     "traceback": [
      "\u001b[31m---------------------------------------------------------------------------\u001b[39m",
      "\u001b[31mNameError\u001b[39m                                 Traceback (most recent call last)",
      "\u001b[36mCell\u001b[39m\u001b[36m \u001b[39m\u001b[32mIn[60]\u001b[39m\u001b[32m, line 1\u001b[39m\n\u001b[32m----> \u001b[39m\u001b[32m1\u001b[39m \u001b[38;5;28mprint\u001b[39m(\u001b[43mi\u001b[49m) \u001b[38;5;66;03m# this will throw an error i is not defined as i was only defined in func_1()\u001b[39;00m\n",
      "\u001b[31mNameError\u001b[39m: name 'i' is not defined"
     ]
    }
   ],
   "source": [
    "print(i) # this will throw an error i is not defined as i was only defined in func_1()"
   ]
  },
  {
   "cell_type": "markdown",
   "id": "01791e85",
   "metadata": {},
   "source": [
    "`i` can not be used until it is re-defined, even in another function"
   ]
  },
  {
   "cell_type": "code",
   "execution_count": 77,
   "id": "94dfa651",
   "metadata": {},
   "outputs": [],
   "source": [
    "def func_1():\n",
    "   i = \"Hello\"\n",
    "   print(i)\n",
    "def func_2():\n",
    "   i = \"Alice\"\n",
    "   func_1()\n",
    "   print(i)"
   ]
  },
  {
   "cell_type": "code",
   "execution_count": 80,
   "id": "768353ce",
   "metadata": {},
   "outputs": [
    {
     "name": "stdout",
     "output_type": "stream",
     "text": [
      "Hello\n",
      "Alice\n",
      "None\n"
     ]
    }
   ],
   "source": [
    "print(func_2())"
   ]
  },
  {
   "cell_type": "markdown",
   "id": "988c4382",
   "metadata": {},
   "source": [
    "Sometimes we migt need the variable from a function to be used in another function without re-defining that variable such variable can be set to **`global`**"
   ]
  },
  {
   "cell_type": "code",
   "execution_count": null,
   "id": "89d963ea",
   "metadata": {},
   "outputs": [
    {
     "name": "stdout",
     "output_type": "stream",
     "text": [
      "......\n",
      "......\n"
     ]
    }
   ],
   "source": [
    "def my_wish():\n",
    "    global wish\n",
    "    wish = \"......\"\n",
    "    print(wish)\n",
    "\n",
    "def say_your_wish():\n",
    "    print(wish)\n",
    "\n",
    "my_wish()\n",
    "say_your_wish()"
   ]
  },
  {
   "cell_type": "markdown",
   "id": "43bf8b57",
   "metadata": {},
   "source": [
    "### **First Clas Functions and Closures**"
   ]
  },
  {
   "cell_type": "markdown",
   "id": "f369d191",
   "metadata": {},
   "source": [
    "Both inbuilt and written functions in python are refered to as first class functions because they can be assigned to a variable, copied and passed as arguement to another function and even returned from another function under the right condition."
   ]
  },
  {
   "cell_type": "markdown",
   "id": "71ff18dd",
   "metadata": {},
   "source": [
    "**Copying functions**"
   ]
  },
  {
   "cell_type": "code",
   "execution_count": 82,
   "id": "4f7066c6",
   "metadata": {},
   "outputs": [
    {
     "name": "stdout",
     "output_type": "stream",
     "text": [
      "g(3): 27 and f(3): 27\n"
     ]
    }
   ],
   "source": [
    "def f(x):\n",
    "    return x**x\n",
    "\n",
    "g = f\n",
    "print(f\"g(3): {g(3)} and f(3): {f(3)}\")"
   ]
  },
  {
   "cell_type": "markdown",
   "id": "300b2086",
   "metadata": {},
   "source": [
    "**List of Functios**"
   ]
  },
  {
   "cell_type": "markdown",
   "id": "a5f4bddc",
   "metadata": {},
   "source": [
    "Functions can be put in a list and indexed out to be used."
   ]
  },
  {
   "cell_type": "code",
   "execution_count": 83,
   "id": "79b3c99b",
   "metadata": {},
   "outputs": [
    {
     "name": "stdout",
     "output_type": "stream",
     "text": [
      "16\n",
      "125\n"
     ]
    }
   ],
   "source": [
    "def f(x):\n",
    "    return x**2\n",
    "def g(x):\n",
    "    return x**3\n",
    "\n",
    "funcs = [f, g]\n",
    "\n",
    "print(funcs[0](4), funcs[1](5), sep='\\n')"
   ]
  },
  {
   "cell_type": "markdown",
   "id": "8d9628ec",
   "metadata": {},
   "source": [
    "An extra example is say we have a list of function and we want user to specify what funciton he or she wants to use depending on it's position in the list.\n",
    "\n",
    "``` python\n",
    "funcs = [f1, f2, f3, f4, f5, f6, f7, f8, f9, f10]\n",
    "num = eval(input(\"Enter a number\"))\n",
    "funcs[num]((3, 5))\n"
   ]
  },
  {
   "cell_type": "markdown",
   "id": "3aca6ce3",
   "metadata": {},
   "source": [
    "**Passing Functions as arguements**"
   ]
  },
  {
   "cell_type": "markdown",
   "id": "10408aac",
   "metadata": {},
   "source": [
    "we know by default sort sorts a list of lists/tuples by their first element, say we want to sort them by their second element, we might need to specify the key arguement of sort as a function to identify the second element of each lists/ tuple in our list."
   ]
  },
  {
   "cell_type": "code",
   "execution_count": 89,
   "id": "3123b68e",
   "metadata": {},
   "outputs": [
    {
     "name": "stdout",
     "output_type": "stream",
     "text": [
      "[[1, 0], [2, 1], [0, 3]]\n"
     ]
    }
   ],
   "source": [
    "def comp(x):\n",
    "    return x[1]\n",
    "\n",
    "\n",
    "L = [[2, 1],[0, 3],[1, 0]]\n",
    "L.sort(key= comp)\n",
    "print(L)"
   ]
  },
  {
   "cell_type": "markdown",
   "id": "2ea69cef",
   "metadata": {},
   "source": [
    "we know by default using sort on a list of strings will sort the list by alphabetical other of the strings\n",
    "say we want to sort the list of strings by length of it element. "
   ]
  },
  {
   "cell_type": "code",
   "execution_count": 90,
   "id": "947511c0",
   "metadata": {},
   "outputs": [
    {
     "name": "stdout",
     "output_type": "stream",
     "text": [
      "['a', 'is', 'of', 'by', 'this', 'test', 'length', 'sorting']\n"
     ]
    }
   ],
   "source": [
    "Words = ['this', 'is', 'a', 'test', 'of', 'sorting', 'by', 'length']\n",
    "Words.sort(key= len)\n",
    "print(Words)\n"
   ]
  },
  {
   "cell_type": "markdown",
   "id": "425b69c4",
   "metadata": {},
   "source": [
    "To make sure the list is not just sorted by length but also by alphabetical order I can sort by alphabetical order first, afterwards sort by length."
   ]
  },
  {
   "cell_type": "code",
   "execution_count": null,
   "id": "69b64644",
   "metadata": {},
   "outputs": [
    {
     "name": "stdout",
     "output_type": "stream",
     "text": [
      "['a', 'by', 'is', 'of', 'test', 'this', 'length', 'sorting']\n"
     ]
    }
   ],
   "source": [
    "Words = ['this', 'is', 'a', 'test', 'of', 'sorting', 'by', 'length']\n",
    "Words.sort()\n",
    "Words.sort(key= len)\n",
    "print(Words)\n"
   ]
  },
  {
   "cell_type": "markdown",
   "id": "d933203d",
   "metadata": {},
   "source": [
    "**Closures**"
   ]
  },
  {
   "cell_type": "markdown",
   "id": "89bc1c99",
   "metadata": {},
   "source": [
    "A closure is an inner function that remembers and have acces to variables in the local scope (outer function scope) in which it was created even when the outer function has finish excecuting. "
   ]
  },
  {
   "cell_type": "code",
   "execution_count": 91,
   "id": "03772021",
   "metadata": {},
   "outputs": [],
   "source": [
    "def outer_func():\n",
    "    message = \"Hi\"\n",
    "\n",
    "    def inner_func():\n",
    "        print(message)\n",
    "        \n",
    "    return inner_func\n",
    "\n"
   ]
  },
  {
   "cell_type": "markdown",
   "id": "aba5b948",
   "metadata": {},
   "source": [
    "Inner functions are function defined inside an other function and they can access the variables of that function (we usually call these variables **Free variables**), the Inner function can access variable in the outer function (non local scope) and even update them in itself."
   ]
  },
  {
   "cell_type": "code",
   "execution_count": null,
   "id": "f0a5deec",
   "metadata": {},
   "outputs": [
    {
     "data": {
      "text/plain": [
       "<function __main__.outer_func.<locals>.inner_func()>"
      ]
     },
     "execution_count": 97,
     "metadata": {},
     "output_type": "execute_result"
    }
   ],
   "source": [
    "outer_func() #on calling the outer function it returns the inner func as we specified in it's code"
   ]
  },
  {
   "cell_type": "code",
   "execution_count": 101,
   "id": "7c4e341e",
   "metadata": {},
   "outputs": [
    {
     "name": "stdout",
     "output_type": "stream",
     "text": [
      "Hi\n"
     ]
    }
   ],
   "source": [
    "func = outer_func() \n",
    "func() # saving the inner func to a variable and calling it \"Notice the ()\" we can call the function that it returns"
   ]
  },
  {
   "cell_type": "markdown",
   "id": "175e72e0",
   "metadata": {},
   "source": [
    "### **Updating a variable from the outer function in a closure**"
   ]
  },
  {
   "cell_type": "markdown",
   "id": "444e8581",
   "metadata": {},
   "source": [
    "if we are updating a variable that points to an immutable object we have use the **`nonlocal`** statement in the closure to tell the closure that the variable is not local to it. i.e we are updating a variable defined in the outer function don't take it as a variable local to you.\n",
    "\n",
    "we don't have to use the `nonlocal` statement for a variable pointing to a mutable object"
   ]
  },
  {
   "cell_type": "code",
   "execution_count": 32,
   "id": "43957702",
   "metadata": {},
   "outputs": [
    {
     "name": "stdout",
     "output_type": "stream",
     "text": [
      "Hello\n"
     ]
    }
   ],
   "source": [
    "def outer_func():\n",
    "    message = \"Hi\"\n",
    "\n",
    "    def inner_func():\n",
    "        nonlocal message \n",
    "        # we have to tell the closure the variable already belong to the outer function\n",
    "        # i.e it's non local so it doesn't take message as it's inner function\n",
    "        message =\"Hello\" # Update message variable in inner function\n",
    "        print(message)\n",
    "        \n",
    "    return inner_func\n",
    "\n",
    "func =  outer_func()\n",
    "func()\n",
    "\n"
   ]
  },
  {
   "cell_type": "markdown",
   "id": "266a1eb2",
   "metadata": {},
   "source": [
    "### **Let's study the effect of not using the \"`nonlocal`\" expression**"
   ]
  },
  {
   "cell_type": "markdown",
   "id": "c2392bdd",
   "metadata": {},
   "source": [
    "we would write a closure, `counter` to update count by 1 any time it is called"
   ]
  },
  {
   "cell_type": "markdown",
   "id": "5d5bdfd2",
   "metadata": {},
   "source": [
    "we would use count in the outer function and go ahead to use it in the inner function without specifying that it's non local to the closure"
   ]
  },
  {
   "cell_type": "code",
   "execution_count": 33,
   "id": "63cef354",
   "metadata": {},
   "outputs": [],
   "source": [
    "def outer():\n",
    "    count = 0\n",
    "    def counter():\n",
    "        count += 1\n",
    "        return counter\n",
    "    return counter"
   ]
  },
  {
   "cell_type": "code",
   "execution_count": 34,
   "id": "51792b2d",
   "metadata": {},
   "outputs": [
    {
     "ename": "UnboundLocalError",
     "evalue": "cannot access local variable 'count' where it is not associated with a value",
     "output_type": "error",
     "traceback": [
      "\u001b[31m---------------------------------------------------------------------------\u001b[39m",
      "\u001b[31mUnboundLocalError\u001b[39m                         Traceback (most recent call last)",
      "\u001b[36mCell\u001b[39m\u001b[36m \u001b[39m\u001b[32mIn[34]\u001b[39m\u001b[32m, line 2\u001b[39m\n\u001b[32m      1\u001b[39m my_counter = outer()\n\u001b[32m----> \u001b[39m\u001b[32m2\u001b[39m \u001b[43mmy_counter\u001b[49m\u001b[43m(\u001b[49m\u001b[43m)\u001b[49m\n",
      "\u001b[36mCell\u001b[39m\u001b[36m \u001b[39m\u001b[32mIn[33]\u001b[39m\u001b[32m, line 4\u001b[39m, in \u001b[36mouter.<locals>.counter\u001b[39m\u001b[34m()\u001b[39m\n\u001b[32m      3\u001b[39m \u001b[38;5;28;01mdef\u001b[39;00m\u001b[38;5;250m \u001b[39m\u001b[34mcounter\u001b[39m():\n\u001b[32m----> \u001b[39m\u001b[32m4\u001b[39m     \u001b[43mcount\u001b[49m += \u001b[32m1\u001b[39m\n\u001b[32m      5\u001b[39m     \u001b[38;5;28;01mreturn\u001b[39;00m counter\n",
      "\u001b[31mUnboundLocalError\u001b[39m: cannot access local variable 'count' where it is not associated with a value"
     ]
    }
   ],
   "source": [
    "my_counter = outer()\n",
    "my_counter()"
   ]
  },
  {
   "cell_type": "markdown",
   "id": "ddcc1a5b",
   "metadata": {},
   "source": [
    "we are getting an erro because the closure `counter` believes that the variable `count` is local to it, and hence not defined within it's scope."
   ]
  },
  {
   "cell_type": "markdown",
   "id": "f8f2b5e3",
   "metadata": {},
   "source": [
    "\n",
    "using the `nonlocal` statement"
   ]
  },
  {
   "cell_type": "code",
   "execution_count": 25,
   "id": "94a4ab38",
   "metadata": {},
   "outputs": [],
   "source": [
    "def outer():\n",
    "    count = 0\n",
    "    def inner():\n",
    "        nonlocal count\n",
    "        count += 1\n",
    "        return count\n",
    "    return inner \n"
   ]
  },
  {
   "cell_type": "code",
   "execution_count": null,
   "id": "af979484",
   "metadata": {},
   "outputs": [
    {
     "name": "stdout",
     "output_type": "stream",
     "text": [
      "1\n",
      "2\n",
      "3\n"
     ]
    }
   ],
   "source": [
    "my_counter = outer()\n",
    "\n",
    "print(my_counter())\n",
    "\n",
    "print(my_counter())\n",
    "\n",
    "print(my_counter())"
   ]
  },
  {
   "cell_type": "markdown",
   "id": "96af87bf",
   "metadata": {},
   "source": [
    "### **updating mutable objects in a closure**\n",
    "\n"
   ]
  },
  {
   "cell_type": "code",
   "execution_count": 54,
   "id": "7dee0043",
   "metadata": {},
   "outputs": [],
   "source": [
    "def make_appender():\n",
    "    lst = []\n",
    "    def appender(new_item):\n",
    "        lst.append(new_item)\n",
    "        return lst\n",
    "\n",
    "    return appender"
   ]
  },
  {
   "cell_type": "code",
   "execution_count": 57,
   "id": "672091b0",
   "metadata": {},
   "outputs": [
    {
     "name": "stdout",
     "output_type": "stream",
     "text": [
      "['First item']\n",
      "['First item', 'Second item']\n",
      "['First item', 'Second item', 'Third item']\n"
     ]
    }
   ],
   "source": [
    "my_basket =  make_appender()\n",
    "print(my_basket(\"First item\"))\n",
    "print(my_basket(\"Second item\"))\n",
    "print(my_basket(\"Third item\"))\n"
   ]
  },
  {
   "cell_type": "markdown",
   "id": "102b6af6",
   "metadata": {},
   "source": [
    "All closures are inner functions but not all inner functions are closures. In the case of closures the outer function should be returning the inner function.\n",
    "\n",
    "Any variable Global to the outer function is global to the closure/ Inner function. This phenomenom allows us to use these varibales in the closure even when the outer function has been called because these variables themselve are part of the closure."
   ]
  },
  {
   "cell_type": "code",
   "execution_count": 58,
   "id": "8d734e40",
   "metadata": {},
   "outputs": [
    {
     "data": {
      "text/plain": [
       "'Hello!'"
      ]
     },
     "execution_count": 58,
     "metadata": {},
     "output_type": "execute_result"
    }
   ],
   "source": [
    "def outer():\n",
    "    msg = \"Hello!\"\n",
    "    def inner():\n",
    "        return msg\n",
    "    later_msg = \"Bye\" # non local variable\n",
    "    return inner\n",
    "\n",
    "greet = outer()\n",
    "greet()\n"
   ]
  },
  {
   "cell_type": "markdown",
   "id": "a5f170e7",
   "metadata": {},
   "source": [
    "we observe that both `msg` and `later_msg` are both global to `outer` even if later was defined after the `inner` function. We must be aware that `later_msg` is still within the global scope of `outer` (or environment of `inner`) and hence the variable `later_msg` is accesible by the closure `inner`, hence `later_msg` is also a **free variable** or **captured variable**"
   ]
  },
  {
   "cell_type": "markdown",
   "id": "55424ac7",
   "metadata": {},
   "source": [
    "``` python\n",
    "def outer():\n",
    "    local_variable = \"Hi there! I am a local variable\"\n",
    "    def closure():\n",
    "        print(local_variable)\n",
    "        print(another_local_variable)\n",
    "    another_local_variable = \"Hey! I am also a local variable\"\n",
    "    return closure\n",
    "\n",
    "```\n"
   ]
  },
  {
   "cell_type": "code",
   "execution_count": 59,
   "id": "6fa2d69c",
   "metadata": {},
   "outputs": [
    {
     "name": "stdout",
     "output_type": "stream",
     "text": [
      "Hello!\n",
      "Bye.\n"
     ]
    }
   ],
   "source": [
    "def outer():\n",
    "    msg = \"Hello!\"\n",
    "    def inner():\n",
    "        print(msg)\n",
    "        print(later_msg)\n",
    "    later_msg = \"Bye.\"\n",
    "    return inner\n",
    "\n",
    "greet = outer()\n",
    "greet()\n"
   ]
  },
  {
   "cell_type": "markdown",
   "id": "58a726f0",
   "metadata": {},
   "source": [
    "let's add arguements!"
   ]
  },
  {
   "cell_type": "code",
   "execution_count": 60,
   "id": "c6595089",
   "metadata": {},
   "outputs": [],
   "source": [
    "def outer_func(msg):\n",
    "    message = msg\n",
    "    \n",
    "    def inner_func():\n",
    "        return message\n",
    "    return inner_func"
   ]
  },
  {
   "cell_type": "code",
   "execution_count": 61,
   "id": "5dcf2013",
   "metadata": {},
   "outputs": [
    {
     "name": "stdout",
     "output_type": "stream",
     "text": [
      "Hi\n"
     ]
    }
   ],
   "source": [
    "hi_func = outer_func(\"Hi\")\n",
    "print(hi_func())"
   ]
  },
  {
   "cell_type": "code",
   "execution_count": 62,
   "id": "1b635d41",
   "metadata": {},
   "outputs": [
    {
     "name": "stdout",
     "output_type": "stream",
     "text": [
      "Hello\n"
     ]
    }
   ],
   "source": [
    "Hello_func = outer_func(\"Hello\")\n",
    "print(Hello_func())"
   ]
  },
  {
   "cell_type": "markdown",
   "id": "5650a14e",
   "metadata": {},
   "source": [
    "we would notice that each of this variables remembers the **free variable**, \"`message`\" from the environment which they were created."
   ]
  },
  {
   "cell_type": "code",
   "execution_count": 111,
   "id": "b14701f1",
   "metadata": {},
   "outputs": [],
   "source": [
    "def html_tag(tag):\n",
    "    def wrap_msg(msg):\n",
    "        return f\"<{tag}>{msg}</{tag}>\"\n",
    "    return wrap_msg"
   ]
  },
  {
   "cell_type": "code",
   "execution_count": 116,
   "id": "863f88ab",
   "metadata": {},
   "outputs": [
    {
     "name": "stdout",
     "output_type": "stream",
     "text": [
      "<h1>This is a header</h1>\n"
     ]
    }
   ],
   "source": [
    "h1_tagger = html_tag(\"h1\")\n",
    "print(h1_tagger(\"This is a header\")) # remembers the variable which we set in html_tag function "
   ]
  },
  {
   "cell_type": "code",
   "execution_count": 117,
   "id": "18fad7e5",
   "metadata": {},
   "outputs": [
    {
     "name": "stdout",
     "output_type": "stream",
     "text": [
      "<p>This is Paragraph</p>\n"
     ]
    }
   ],
   "source": [
    "p_tagger = html_tag(\"p\")\n",
    "\n",
    "print(p_tagger(\"This is Paragraph\")) # remembers the variable which we set in html_tag function"
   ]
  },
  {
   "cell_type": "markdown",
   "id": "d9d88c6b",
   "metadata": {},
   "source": [
    "### **Factory Functions**"
   ]
  },
  {
   "cell_type": "markdown",
   "id": "0fbba97d",
   "metadata": {},
   "source": [
    "Factory function / Methods are functions written to create closures with some initial configuration or parameters, which can be modified based on need. the `html_tag` function is a factory method because it a closure that allows us to customize new versions of a particular object.\n",
    "\n",
    "For example, say that we want to compute numeric roots with different degrees and result precisions. In this situation, you can code a factory function that returns closures with predefined degrees and precisions like the example below:\n",
    "\n"
   ]
  },
  {
   "cell_type": "code",
   "execution_count": 68,
   "id": "06f1c163",
   "metadata": {},
   "outputs": [],
   "source": [
    "def make_root_calculator(degree = 2):\n",
    "    def compute_root(number, precision = 2):\n",
    "        root = round(pow(number, 1/degree), precision)\n",
    "        return root\n",
    "    return compute_root"
   ]
  },
  {
   "cell_type": "code",
   "execution_count": 69,
   "id": "7d96a198",
   "metadata": {},
   "outputs": [
    {
     "data": {
      "text/plain": [
       "3.0723"
      ]
     },
     "execution_count": 69,
     "metadata": {},
     "output_type": "execute_result"
    }
   ],
   "source": [
    "cubic_root = make_root_calculator(3)\n",
    "cubic_root(29, 4)"
   ]
  },
  {
   "cell_type": "code",
   "execution_count": 70,
   "id": "31a222a8",
   "metadata": {},
   "outputs": [
    {
     "data": {
      "text/plain": [
       "4.0"
      ]
     },
     "execution_count": 70,
     "metadata": {},
     "output_type": "execute_result"
    }
   ],
   "source": [
    "square_root = make_root_calculator(2)\n",
    "square_root(16)"
   ]
  },
  {
   "cell_type": "markdown",
   "id": "fe152af2",
   "metadata": {},
   "source": [
    "The make_root_calculator() is a factory function that you can use to create/ customized functions/ closure that compute different numeric roots although it has default/ predefined parameters it'll work with if we don't customize the closure we are creating.\n"
   ]
  },
  {
   "cell_type": "markdown",
   "id": "8bccf097",
   "metadata": {},
   "source": [
    "### **Stateful and Stateless Functions**"
   ]
  },
  {
   "cell_type": "markdown",
   "id": "34553eb5",
   "metadata": {},
   "source": [
    "A **`Stateful`** functions are functions or closure that remembers the informations from previous **invocations** (previous calls), and retains or modifies this state across those calls, a good example of a stateful function is the `counter` function."
   ]
  },
  {
   "cell_type": "code",
   "execution_count": 71,
   "id": "1e3e0c26",
   "metadata": {},
   "outputs": [
    {
     "name": "stdout",
     "output_type": "stream",
     "text": [
      "1\n",
      "2\n",
      "3\n"
     ]
    }
   ],
   "source": [
    "def outer():\n",
    "    count = 0\n",
    "    def inner():\n",
    "        nonlocal count\n",
    "        count += 1\n",
    "        return count\n",
    "    return inner \n",
    "\n",
    "my_counter = outer()\n",
    "\n",
    "print(my_counter())\n",
    "\n",
    "print(my_counter())\n",
    "\n",
    "print(my_counter())"
   ]
  },
  {
   "cell_type": "markdown",
   "id": "c74d5859",
   "metadata": {},
   "source": [
    "we notice each call of my_counter remebers the state of the variable count from the previous invocation / call. this is because of the `count` variable is considered non local for the closure `inner`."
   ]
  },
  {
   "cell_type": "markdown",
   "id": "212aaa5f",
   "metadata": {},
   "source": [
    "Another good example is if we are streaming some data and we want to keep computing some information about the data we have as each stream is coming in."
   ]
  },
  {
   "cell_type": "code",
   "execution_count": 81,
   "id": "ea35d85e",
   "metadata": {},
   "outputs": [],
   "source": [
    "def cummulative_average():\n",
    "    data = []\n",
    "    def average(x):\n",
    "        data.append(x)\n",
    "        return sum(data)/ len(data)\n",
    "    return average"
   ]
  },
  {
   "cell_type": "code",
   "execution_count": 82,
   "id": "e414cc3f",
   "metadata": {},
   "outputs": [
    {
     "name": "stdout",
     "output_type": "stream",
     "text": [
      "10.0\n",
      "10.5\n",
      "11.0\n",
      "11.5\n"
     ]
    }
   ],
   "source": [
    "avg = cummulative_average()\n",
    "\n",
    "print(avg(10))\n",
    "\n",
    "print(avg(11))\n",
    "\n",
    "print(avg(12))\n",
    "\n",
    "print(avg(13))\n",
    "\n"
   ]
  },
  {
   "cell_type": "markdown",
   "id": "46f24724",
   "metadata": {},
   "source": [
    "**`Stateless`** functions do not remebers the information in previous invocations"
   ]
  },
  {
   "cell_type": "code",
   "execution_count": 84,
   "id": "3416d170",
   "metadata": {},
   "outputs": [
    {
     "name": "stdout",
     "output_type": "stream",
     "text": [
      "8\n"
     ]
    },
    {
     "ename": "TypeError",
     "evalue": "add() missing 1 required positional argument: 'y'",
     "output_type": "error",
     "traceback": [
      "\u001b[31m---------------------------------------------------------------------------\u001b[39m",
      "\u001b[31mTypeError\u001b[39m                                 Traceback (most recent call last)",
      "\u001b[36mCell\u001b[39m\u001b[36m \u001b[39m\u001b[32mIn[84]\u001b[39m\u001b[32m, line 6\u001b[39m\n\u001b[32m      2\u001b[39m     \u001b[38;5;28;01mreturn\u001b[39;00m x + y\n\u001b[32m      4\u001b[39m \u001b[38;5;28mprint\u001b[39m(add(\u001b[32m5\u001b[39m, \u001b[32m3\u001b[39m))\n\u001b[32m----> \u001b[39m\u001b[32m6\u001b[39m \u001b[38;5;28mprint\u001b[39m(\u001b[43madd\u001b[49m\u001b[43m(\u001b[49m\u001b[32;43m4\u001b[39;49m\u001b[43m)\u001b[49m) \u001b[38;5;66;03m# this will throw an erro because it expect two arguements and has nothing to do with the previous invocation\u001b[39;00m\n",
      "\u001b[31mTypeError\u001b[39m: add() missing 1 required positional argument: 'y'"
     ]
    }
   ],
   "source": [
    "def add(x,y):\n",
    "    return x + y\n",
    "\n",
    "print(add(5, 3))\n",
    "\n",
    "print(add(4)) # this will throw an erro because it expect two arguements and has nothing to do with the previous invocation"
   ]
  },
  {
   "cell_type": "markdown",
   "id": "f3d65230",
   "metadata": {},
   "source": [
    "### **Anonymous Functions (Lambda)**"
   ]
  },
  {
   "cell_type": "markdown",
   "id": "1213b0e2",
   "metadata": {},
   "source": [
    "Most times functions are made it is usually for the purpose of code re-usability, but some times we might need a pice of code to use once but we would want to use it as a function possible because we want to pass it as an arguement or for any other reason (usually associated with the properties of first class functions). we write **anonymous function**. This function can be used once and immediately discarded."
   ]
  },
  {
   "cell_type": "markdown",
   "id": "52af012f",
   "metadata": {},
   "source": [
    "consider this code:"
   ]
  },
  {
   "cell_type": "code",
   "execution_count": 3,
   "id": "dd870815",
   "metadata": {},
   "outputs": [
    {
     "name": "stdout",
     "output_type": "stream",
     "text": [
      "[[5, 0], [1, 2], [0, 3]]\n"
     ]
    }
   ],
   "source": [
    "def comp(x):\n",
    "    return x[1]\n",
    "L = [[1, 2], [0,3], [5,0]]\n",
    "L.sort(key= comp)\n",
    "print(L)"
   ]
  },
  {
   "cell_type": "markdown",
   "id": "528697e8",
   "metadata": {},
   "source": [
    "In this case `comp` can be replaced by an anonymous function. The **`lambda`** key word is used followed by the arguement and a colon `:` and the logic."
   ]
  },
  {
   "cell_type": "code",
   "execution_count": 17,
   "id": "517c2bf1",
   "metadata": {},
   "outputs": [
    {
     "name": "stdout",
     "output_type": "stream",
     "text": [
      "[[5, 0], [1, 2], [0, 3]]\n"
     ]
    }
   ],
   "source": [
    "L = [[1, 2], [0,3], [5,0]]\n",
    "L.sort(key= lambda x: x[1])\n",
    "print(L)"
   ]
  },
  {
   "cell_type": "markdown",
   "id": "0c8b827d",
   "metadata": {},
   "source": [
    "### **Using lambda to create Closures**"
   ]
  },
  {
   "cell_type": "code",
   "execution_count": 31,
   "id": "0621d4f0",
   "metadata": {},
   "outputs": [
    {
     "name": "stdout",
     "output_type": "stream",
     "text": [
      "Hello Alice\n"
     ]
    }
   ],
   "source": [
    "def outer():\n",
    "    name = \"Alice\"\n",
    "    return lambda: print(f\"Hello {name}\")\n",
    "\n",
    "greet = outer()\n",
    "greet()"
   ]
  },
  {
   "cell_type": "markdown",
   "id": "9cf2bed4",
   "metadata": {},
   "source": [
    "### **Generators**"
   ]
  },
  {
   "cell_type": "code",
   "execution_count": null,
   "id": "76bc499c",
   "metadata": {},
   "outputs": [],
   "source": []
  },
  {
   "cell_type": "markdown",
   "id": "68393ffa",
   "metadata": {},
   "source": [
    "### **Recursion**"
   ]
  },
  {
   "cell_type": "code",
   "execution_count": null,
   "id": "2c49d94b",
   "metadata": {},
   "outputs": [],
   "source": []
  },
  {
   "cell_type": "markdown",
   "id": "2a828d40",
   "metadata": {},
   "source": [
    "### **Map, Filter and Reduce**"
   ]
  },
  {
   "cell_type": "code",
   "execution_count": null,
   "id": "66298652",
   "metadata": {},
   "outputs": [],
   "source": []
  },
  {
   "cell_type": "markdown",
   "id": "7f90b05f",
   "metadata": {},
   "source": [
    "### **A comparison of List comprehensions and Map, Filter, Reduce**"
   ]
  },
  {
   "cell_type": "code",
   "execution_count": null,
   "id": "77a7f673",
   "metadata": {},
   "outputs": [],
   "source": []
  },
  {
   "cell_type": "markdown",
   "id": "28e17df6",
   "metadata": {},
   "source": [
    "### **More about Function Arguements: `*args` and `**kwargs`**"
   ]
  },
  {
   "cell_type": "code",
   "execution_count": null,
   "id": "66572a22",
   "metadata": {},
   "outputs": [],
   "source": []
  }
 ],
 "metadata": {
  "kernelspec": {
   "display_name": "Python 3",
   "language": "python",
   "name": "python3"
  },
  "language_info": {
   "codemirror_mode": {
    "name": "ipython",
    "version": 3
   },
   "file_extension": ".py",
   "mimetype": "text/x-python",
   "name": "python",
   "nbconvert_exporter": "python",
   "pygments_lexer": "ipython3",
   "version": "3.12.4"
  }
 },
 "nbformat": 4,
 "nbformat_minor": 5
}
