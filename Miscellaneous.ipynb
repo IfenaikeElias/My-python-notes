{
 "cells": [
  {
   "cell_type": "markdown",
   "metadata": {},
   "source": [
    "## Counting\n",
    "\n",
    "This is often used to keep track of an event in a loop or program"
   ]
  },
  {
   "cell_type": "code",
   "execution_count": null,
   "metadata": {},
   "outputs": [
    {
     "name": "stdout",
     "output_type": "stream",
     "text": [
      "The user inputed 2 numbers greater than 10\n"
     ]
    }
   ],
   "source": [
    "count = 0 # initialize the count\n",
    "for i in range(5):\n",
    "    num = eval(input(\"Enter a number: \"))\n",
    "    if num > 10:\n",
    "        count += 1 #increase count based on a condition\n",
    "print(f\"The user inputed {count} numbers greater than 10\")\n"
   ]
  },
  {
   "cell_type": "markdown",
   "metadata": {},
   "source": [
    "## Summing\n",
    "\n",
    "related to count but we use this concept to sum up a bunch of numbers"
   ]
  },
  {
   "cell_type": "code",
   "execution_count": 3,
   "metadata": {},
   "outputs": [
    {
     "name": "stdout",
     "output_type": "stream",
     "text": [
      "sum is  5050\n"
     ]
    }
   ],
   "source": [
    "# get sum from 1 to 100\n",
    "s = 0\n",
    "for i in range(1, 101):\n",
    "    s+= i\n",
    "print(\"sum is \",s )"
   ]
  },
  {
   "cell_type": "code",
   "execution_count": 4,
   "metadata": {},
   "outputs": [
    {
     "name": "stdout",
     "output_type": "stream",
     "text": [
      "the average is 4.3\n"
     ]
    }
   ],
   "source": [
    "# calculate average of users input\n",
    "s = 0\n",
    "for i in range(10):\n",
    "    num = eval(input(\"enter a number: \"))\n",
    "    s += num\n",
    "print(f\"the average is {s/10}\")"
   ]
  },
  {
   "cell_type": "markdown",
   "metadata": {},
   "source": [
    "## Swapping\n",
    "\n",
    "in python a shortcut to swap two variables is: `x,y = y,x`"
   ]
  },
  {
   "cell_type": "code",
   "execution_count": 5,
   "metadata": {},
   "outputs": [
    {
     "name": "stdout",
     "output_type": "stream",
     "text": [
      "Before swapping\n",
      "x is 5 and y is 6\n",
      "after swapping\n",
      "x is now 6 and y is now 5\n"
     ]
    }
   ],
   "source": [
    "x = 5\n",
    "y = 6\n",
    "print(\"Before swapping\")\n",
    "print(f\"x is {x} and y is {y}\")\n",
    "x,y = y,x\n",
    "print(\"after swapping\")\n",
    "print(f\"x is now {x} and y is now {y}\")"
   ]
  },
  {
   "cell_type": "markdown",
   "metadata": {},
   "source": [
    "## Flagging\n",
    "Flag variables are used to let one part of your code know when something happen in anonther part"
   ]
  },
  {
   "cell_type": "code",
   "execution_count": 6,
   "metadata": {},
   "outputs": [
    {
     "name": "stdout",
     "output_type": "stream",
     "text": [
      "Is Prime\n"
     ]
    }
   ],
   "source": [
    "# code to check if a number is prime\n",
    "num = eval(input(\"Enter a number: \"))\n",
    "\n",
    "flag = 0\n",
    "for i in range(2, num//2):\n",
    "    if num % i == 0:\n",
    "        flag = 1\n",
    "if flag == 1:\n",
    "    print('Not prime')\n",
    "else:\n",
    "    print(\"Is Prime\")"
   ]
  },
  {
   "cell_type": "markdown",
   "metadata": {},
   "source": [
    "## Maxes and Mins\n",
    "\n",
    "A common programming task is to find largest or smallest number. this can be done with countinous updating as we transveres a collection of number"
   ]
  },
  {
   "cell_type": "code",
   "execution_count": 8,
   "metadata": {},
   "outputs": [
    {
     "name": "stdout",
     "output_type": "stream",
     "text": [
      "largest number is 78\n"
     ]
    }
   ],
   "source": [
    "largest = 0 # largest could be equal to first element of a list we are to find the max\n",
    "for i in range(9):\n",
    "    num = eval(input(\"Enter a num: \"))\n",
    "    if num > largest:\n",
    "        largest = num\n",
    "print(f\"largest number is {largest}\")\n"
   ]
  },
  {
   "cell_type": "code",
   "execution_count": 9,
   "metadata": {},
   "outputs": [
    {
     "data": {
      "text/plain": [
       "9"
      ]
     },
     "execution_count": 9,
     "metadata": {},
     "output_type": "execute_result"
    }
   ],
   "source": [
    "# to find max between two numbers we can do:\n",
    "max(9, 6)"
   ]
  },
  {
   "cell_type": "code",
   "execution_count": null,
   "metadata": {},
   "outputs": [],
   "source": []
  }
 ],
 "metadata": {
  "kernelspec": {
   "display_name": "myenv",
   "language": "python",
   "name": "python3"
  },
  "language_info": {
   "codemirror_mode": {
    "name": "ipython",
    "version": 3
   },
   "file_extension": ".py",
   "mimetype": "text/x-python",
   "name": "python",
   "nbconvert_exporter": "python",
   "pygments_lexer": "ipython3",
   "version": "3.12.4"
  }
 },
 "nbformat": 4,
 "nbformat_minor": 2
}
